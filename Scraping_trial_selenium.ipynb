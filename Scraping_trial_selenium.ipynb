{
 "cells": [
  {
   "cell_type": "code",
   "execution_count": 1,
   "id": "0638701b",
   "metadata": {},
   "outputs": [],
   "source": [
    "import pandas as pd\n",
    "import time\n",
    "import numpy as np\n",
    "from selenium import webdriver\n",
    "from selenium.webdriver.chrome.options import Options\n",
    "from selenium.webdriver.common.by import By\n",
    "import csv \n",
    "import random\n",
    "import threading as th\n",
    "from selenium.webdriver.common.keys import Keys"
   ]
  },
  {
   "cell_type": "code",
   "execution_count": 6,
   "id": "6164bdb5",
   "metadata": {},
   "outputs": [],
   "source": [
    "#driver path \n",
    "driverpath = r\"D:\\ITI\\Phase II\\NLP Project\\scrap\\chromedriver.exe\"\n",
    "\n"
   ]
  },
  {
   "cell_type": "code",
   "execution_count": 7,
   "id": "a6f60180",
   "metadata": {},
   "outputs": [
    {
     "name": "stderr",
     "output_type": "stream",
     "text": [
      "c:\\Users\\MedOo\\project\\lib\\site-packages\\ipykernel_launcher.py:3: DeprecationWarning: executable_path has been deprecated, please pass in a Service object\n",
      "  This is separate from the ipykernel package so we can avoid doing imports until\n"
     ]
    }
   ],
   "source": [
    "option = webdriver.ChromeOptions()\n",
    "option.add_argument(\"-disk-chache-size=3000000000\")\n",
    "driver = webdriver.Chrome(executable_path=driverpath)"
   ]
  },
  {
   "cell_type": "code",
   "execution_count": 8,
   "id": "7ad34c0a",
   "metadata": {},
   "outputs": [],
   "source": [
    "driver.get(\"https://www.youm7.com/\")"
   ]
  },
  {
   "cell_type": "code",
   "execution_count": 9,
   "id": "51ee5a37",
   "metadata": {},
   "outputs": [
    {
     "name": "stderr",
     "output_type": "stream",
     "text": [
      "c:\\Users\\MedOo\\project\\lib\\site-packages\\ipykernel_launcher.py:1: DeprecationWarning: find_element_by_* commands are deprecated. Please use find_element() instead\n",
      "  \"\"\"Entry point for launching an IPython kernel.\n"
     ]
    }
   ],
   "source": [
    "driver.find_element_by_css_selector(\"li[class='homeIco']\").click()"
   ]
  },
  {
   "cell_type": "code",
   "execution_count": 10,
   "id": "29e77bb3",
   "metadata": {},
   "outputs": [
    {
     "name": "stderr",
     "output_type": "stream",
     "text": [
      "c:\\Users\\MedOo\\project\\lib\\site-packages\\ipykernel_launcher.py:1: DeprecationWarning: find_element_by_* commands are deprecated. Please use find_element() instead\n",
      "  \"\"\"Entry point for launching an IPython kernel.\n"
     ]
    }
   ],
   "source": [
    "driver.find_element_by_css_selector(\"body > header > div.row.marigin0.headerNewNew > div > nav > div > ul > li:nth-child(2) > a > h2\").click()"
   ]
  },
  {
   "cell_type": "code",
   "execution_count": 11,
   "id": "9400b6e1",
   "metadata": {},
   "outputs": [
    {
     "name": "stderr",
     "output_type": "stream",
     "text": [
      "c:\\Users\\MedOo\\project\\lib\\site-packages\\ipykernel_launcher.py:4: DeprecationWarning: find_elements_by_* commands are deprecated. Please use find_elements() instead\n",
      "  after removing the cwd from sys.path.\n",
      "c:\\Users\\MedOo\\project\\lib\\site-packages\\selenium\\webdriver\\remote\\webelement.py:484: UserWarning: find_element_by_* commands are deprecated. Please use find_element() instead\n",
      "  warnings.warn(\"find_element_by_* commands are deprecated. Please use find_element() instead\")\n"
     ]
    },
    {
     "name": "stdout",
     "output_type": "stream",
     "text": [
      "https://www.youm7.com/story/2021/12/1/%D9%88%D8%B2%D9%8A%D8%B1-%D8%A7%D9%84%D8%A5%D9%86%D8%AA%D8%A7%D8%AC-%D8%A7%D9%84%D8%AD%D8%B1%D8%A8%D9%89-%D9%8A%D8%B4%D9%87%D8%AF-%D8%AA%D9%88%D9%82%D9%8A%D8%B9-%D9%85%D8%B0%D9%83%D8%B1%D8%A9-%D8%AA%D9%81%D8%A7%D9%87%D9%85-%D9%85%D8%B9-%D9%85%D8%AC%D9%84%D8%B3-%D8%A7%D9%84%D8%A5%D9%85%D8%A7%D8%B1%D8%A7%D8%AA/5560881 \n",
      "\n",
      "https://www.youm7.com/story/2021/12/1/%D8%A7%D9%84%D8%B1%D8%A6%D9%8A%D8%B3-%D8%A7%D9%84%D8%B3%D9%8A%D8%B3%D9%89-%D9%8A%D8%B3%D8%AA%D9%82%D8%A8%D9%84-%D8%A7%D9%84%D9%8A%D9%88%D9%85-%D8%B1%D8%A6%D9%8A%D8%B3-%D8%AD%D9%83%D9%88%D9%85%D8%A9-%D9%85%D9%85%D9%84%D9%83%D8%A9-%D8%A5%D8%B3%D8%A8%D8%A7%D9%86%D9%8A%D8%A7/5560865 \n",
      "\n",
      "https://www.youm7.com/story/2021/12/1/%D8%A7%D9%84%D8%A3%D9%82%D8%B1%D8%A8-%D8%AE%D9%84%D8%A7%D9%84-%D8%A7%D9%84%D9%8010-%D8%B3%D9%86%D9%88%D8%A7%D8%AA-%D8%A7%D9%84%D9%85%D9%82%D8%A8%D9%84%D8%A9-%D9%83%D9%88%D9%8A%D9%83%D8%A8-%D8%B5%D8%BA%D9%8A%D8%B1-%D9%8A%D9%85%D8%B1-%D9%82%D8%B1%D8%A8-%D8%A7%D9%84%D8%A3%D8%B1%D8%B6/5560831 \n",
      "\n",
      "https://www.youm7.com/story/2021/12/1/%D8%A7%D9%84%D8%AF%D8%A7%D8%AE%D9%84%D9%8A%D8%A9-%D8%AA%D8%B4%D8%A7%D8%B1%D9%83-%D9%81%D9%89-%D8%AD%D9%85%D9%84%D8%A9-%D8%A7%D9%84%D9%8016-%D9%8A%D9%88%D9%85%D8%A7-%D9%84%D9%85%D9%86%D8%A7%D9%87%D8%B6%D8%A9-%D8%A7%D9%84%D8%B9%D9%86%D9%81-%D8%B6%D8%AF-%D8%A7%D9%84%D9%85%D8%B1%D8%A3%D8%A9/5560839 \n",
      "\n",
      "https://www.youm7.com/story/2021/12/1/%D8%B4%D8%A7%D9%87%D8%AF-%D8%A7%D9%84%D8%AD%D8%A7%D9%84%D8%A9-%D8%A7%D9%84%D9%85%D8%B1%D9%88%D8%B1%D9%8A%D8%A9-%D8%A3%D8%B9%D9%84%D9%89-%D9%85%D8%AD%D9%88%D8%B1-26-%D9%8A%D9%88%D9%84%D9%8A%D9%88-%D9%81%D9%8A%D8%AF%D9%8A%D9%88/5560807 \n",
      "\n",
      "https://www.youm7.com/story/2021/12/1/%D8%A7%D9%84%D9%85%D8%AF%D9%8A%D8%B1%D9%8A%D8%A7%D8%AA-%D8%A7%D9%84%D8%AA%D8%B9%D9%84%D9%8A%D9%85%D9%8A%D8%A9-%D9%85%D8%AF%D8%A9-%D8%A7%D9%85%D8%AA%D8%AD%D8%A7%D9%86-%D8%B4%D9%87%D8%B1-%D8%AF%D9%8A%D8%B3%D9%85%D8%A8%D8%B1-%D9%84%D9%84%D8%B1%D8%A7%D8%A8%D8%B9-%D8%A7%D9%84%D8%A7%D8%A8%D8%AA%D8%AF%D8%A7%D8%A6%D9%89-%D8%AD%D8%B5%D8%A9-%D8%AF%D8%B1%D8%A7%D8%B3%D9%8A%D8%A9/5560824 \n",
      "\n",
      "https://www.youm7.com/story/2021/12/1/%D8%A7%D9%86%D9%82%D8%B7%D8%A7%D8%B9-%D8%A7%D9%84%D9%85%D9%8A%D8%A7%D9%87-%D8%B9%D9%86-%D9%85%D8%AF%D9%8A%D9%86%D8%AA%D9%89-%D8%A7%D9%84%D8%B9%D8%A8%D9%88%D8%B1-%D9%88%D8%A7%D9%84%D8%B9%D8%A8%D9%88%D8%B1-%D8%A7%D9%84%D8%AC%D8%AF%D9%8A%D8%AF%D8%A9-6-%D8%B3%D8%A7%D8%B9%D8%A7%D8%AA-%D8%AA%D8%B9%D8%B1%D9%81/5560826 \n",
      "\n",
      "https://www.youm7.com/story/2021/12/1/%D8%A7%D9%84%D8%A3%D9%82%D9%85%D8%A7%D8%B1-%D8%A7%D9%84%D8%B5%D9%86%D8%A7%D8%B9%D9%8A%D8%A9-%D8%AA%D9%83%D8%B4%D9%81-%D8%A7%D9%86%D8%AE%D9%81%D8%A7%D8%B6-%D8%AF%D8%B1%D8%AC%D8%A7%D8%AA-%D8%A7%D9%84%D8%AD%D8%B1%D8%A7%D8%B1%D8%A9-%D9%88%D8%A7%D8%B6%D8%B7%D8%B1%D8%A7%D8%A8-%D8%A7%D9%84%D9%85%D9%84%D8%A7%D8%AD%D8%A9-%D8%A7%D9%84%D8%A8%D8%AD%D8%B1%D9%8A%D8%A9/5560810 \n",
      "\n",
      "https://www.youm7.com/story/2021/12/1/%D8%A8%D9%8A%D8%AF%D8%B1%D9%88-%D8%B3%D8%A7%D9%86%D8%B4%D9%8A%D8%B2-%D8%A3%D8%B4%D8%B9%D8%B1-%D8%A8%D8%A7%D9%84%D9%81%D8%AE%D8%B1-%D9%84%D9%88%D8%AC%D9%88%D8%AF-%D8%A7%D9%84%D8%A7%D8%B3%D8%AA%D8%AB%D9%85%D8%A7%D8%B1%D8%A7%D8%AA-%D8%A7%D9%84%D8%A5%D8%B3%D8%A8%D8%A7%D9%86%D9%8A%D8%A9-%D9%81%D9%89-%D9%85%D8%B5%D8%B1/5560811 \n",
      "\n",
      "https://www.youm7.com/story/2021/12/1/%D8%B1%D8%A6%D9%8A%D8%B3-%D9%88%D8%B2%D8%B1%D8%A7%D8%A1-%D8%A3%D8%B3%D8%A8%D8%A7%D9%86%D9%8A%D8%A7-%D9%85%D8%B5%D8%B1-%D8%AF%D9%88%D9%84%D8%A9-%D8%B0%D8%A7%D8%AA-%D8%A3%D9%87%D9%85%D9%8A%D8%A9-%D9%83%D8%A8%D8%B1%D9%89-%D9%84%D8%A8%D9%84%D8%AF%D9%86%D8%A7-%D9%88%D8%AF%D9%88%D8%B1%D9%87%D8%A7/5560800 \n",
      "\n",
      "https://www.youm7.com/story/2021/12/1/%D8%B1%D8%A6%D9%8A%D8%B3-%D9%88%D8%B2%D8%B1%D8%A7%D8%A1-%D8%A5%D8%B3%D8%A8%D8%A7%D9%86%D9%8A%D8%A7-%D9%85%D8%B5%D8%B1-%D9%86%D8%AC%D8%AD%D8%AA-%D9%81%D9%89-%D8%AA%D8%AD%D9%82%D9%8A%D9%82-%D9%85%D8%B9%D8%AF%D9%84%D8%A7%D8%AA-%D9%86%D9%85%D9%88-%D8%A7%D9%82%D8%AA%D8%B5%D8%A7%D8%AF%D9%89/5560793 \n",
      "\n",
      "https://www.youm7.com/story/2021/12/1/%D9%88%D8%B2%D9%8A%D8%B1-%D8%A7%D9%84%D8%AA%D8%B9%D9%84%D9%8A%D9%85-%D8%A7%D9%84%D8%B9%D8%A7%D9%84%D9%89-%D9%8A%D8%B4%D9%87%D8%AF-%D8%AA%D9%88%D9%82%D9%8A%D8%B9-%D9%85%D8%B0%D9%83%D8%B1%D8%A9-%D8%AA%D9%81%D8%A7%D9%87%D9%85-%D9%84%D8%A5%D9%86%D8%B4%D8%A7%D8%A1-%D9%85%D8%AE%D8%AA%D8%A8%D8%B1-%D9%85%D8%B5%D8%B1%D9%89/5560787 \n",
      "\n",
      "https://www.youm7.com/story/2021/12/1/%D8%A7%D9%84%D8%B5%D8%AD%D8%A9-%D9%81%D8%AD%D8%B5-20-%D9%85%D9%84%D9%8A%D9%88%D9%86-%D9%88839-%D8%A3%D9%84%D9%81-%D8%B3%D9%8A%D8%AF%D8%A9-%D8%A8%D9%85%D8%A8%D8%A7%D8%AF%D8%B1%D8%A9-%D8%B1%D8%A6%D9%8A%D8%B3-%D8%A7%D9%84%D8%AC%D9%85%D9%87%D9%88%D8%B1%D9%8A%D8%A9/5560786 \n",
      "\n",
      "https://www.youm7.com/story/2021/12/1/%D9%85%D8%B5%D8%B7%D9%81%D9%89-%D9%85%D8%AF%D8%A8%D9%88%D9%84%D9%89-%D9%8A%D8%AF%D8%B9%D9%88-%D8%A7%D9%84%D9%82%D8%B7%D8%A7%D8%B9-%D8%A7%D9%84%D8%AE%D8%A7%D8%B5-%D8%A7%D9%84%D8%A3%D8%B3%D8%A8%D8%A7%D9%86%D9%89-%D9%84%D9%84%D8%AA%D8%B9%D8%B1%D9%81-%D8%B9%D9%84%D9%89-%D9%81%D8%B1%D8%B5-%D8%A7%D9%84%D8%A7%D8%B3%D8%AA%D8%AB%D9%85%D8%A7%D8%B1/5560780 \n",
      "\n",
      "https://www.youm7.com/story/2021/12/1/%D8%B1%D8%A6%D9%8A%D8%B3-%D8%A7%D9%84%D9%88%D8%B2%D8%B1%D8%A7%D8%A1-%D9%86%D8%AC%D8%AD%D9%86%D8%A7-%D9%81%D9%89-%D8%A7%D8%AC%D8%AA%D9%8A%D8%A7%D8%B2-%D8%AA%D8%AD%D8%AF%D9%8A%D8%A7%D8%AA-%D8%AC%D8%A7%D8%A6%D8%AD%D8%A9-%D9%83%D9%88%D8%B1%D9%88%D9%86%D8%A7-%D8%A8%D9%81%D8%B6%D9%84-%D8%A8%D8%B1%D9%86%D8%A7%D9%85%D8%AC%D9%86%D8%A7/5560776 \n",
      "\n",
      "https://www.youm7.com/story/2021/12/1/%D8%B1%D8%A6%D9%8A%D8%B3-%D8%A7%D9%84%D9%88%D8%B2%D8%B1%D8%A7%D8%A1-%D8%AA%D8%AC%D8%AF%D9%8A%D8%AF-%D8%A8%D8%B1%D9%88%D8%AA%D9%88%D9%83%D9%88%D9%84-%D8%A7%D9%84%D8%AA%D8%B9%D8%A7%D9%88%D9%86-%D8%A7%D9%84%D9%85%D8%A7%D9%84%D9%89-%D9%85%D8%B9-%D8%A3%D8%B3%D8%A8%D8%A7%D9%86%D9%8A%D8%A7-%D8%A8%D9%82%D9%8A%D9%85%D8%A9-400/5560773 \n",
      "\n",
      "https://www.youm7.com/story/2021/12/1/%D8%B6%D9%88%D8%A7%D8%A8%D8%B7-%D8%A7%D9%85%D8%AA%D8%AD%D8%A7%D9%86%D8%A7%D8%AA-%D8%A7%D9%84%D9%81%D8%B5%D9%84-%D8%A7%D9%84%D8%AF%D8%B1%D8%A7%D8%B3%D9%89-%D8%A7%D9%84%D8%A3%D9%88%D9%84-%D9%84%D8%B5%D9%81%D9%88%D9%81-%D8%A7%D9%84%D9%86%D9%82%D9%84-%D8%A7%D8%B9%D8%B1%D9%81-%D8%A7%D9%84%D8%AA%D9%81%D8%A7%D8%B5%D9%8A%D9%84/5559764 \n",
      "\n",
      "https://www.youm7.com/story/2021/12/1/%D9%88%D8%B2%D9%8A%D8%B1-%D8%A7%D9%84%D8%A5%D9%86%D8%AA%D8%A7%D8%AC-%D8%A7%D9%84%D8%AD%D8%B1%D8%A8%D9%89-%D8%A7%D9%84%D8%A5%D9%85%D8%A7%D8%B1%D8%A7%D8%AA-%D8%AB%D8%A7%D9%86%D9%89-%D8%A3%D8%B9%D9%84%D9%89-%D8%AF%D9%88%D9%84%D8%A9-%D9%85%D8%B4%D8%A7%D8%B1%D9%83%D8%A9-%D9%81%D9%89-%D8%A5%D9%8A%D8%AF%D9%8A%D9%83%D8%B3/5560754 \n",
      "\n",
      "https://www.youm7.com/story/2021/12/1/%D8%A7%D9%84%D8%B3%D9%81%D9%8A%D8%B1-%D8%A7%D9%84%D9%83%D9%88%D8%B1%D9%89-%D8%A7%D9%84%D8%AC%D9%86%D9%88%D8%A8%D9%89-%D9%8A%D8%B2%D9%88%D8%B1-%D9%88%D9%83%D8%A7%D9%84%D8%A9-%D8%A7%D9%84%D9%81%D8%B6%D8%A7%D8%A1-%D8%A7%D9%84%D9%85%D8%B5%D8%B1%D9%8A%D8%A9-%D9%88%D9%8A%D8%A4%D9%83%D8%AF-%D9%85%D8%B5%D8%B1-%D8%A3%D9%88%D9%84%D9%88%D9%8A%D8%A9/5560745 \n",
      "\n",
      "https://www.youm7.com/story/2021/12/1/Edex-2021-%D8%A7%D9%84%D8%A5%D9%85%D8%A7%D8%B1%D8%A7%D8%AA-%D9%84%D9%84%D8%B4%D8%B1%D9%83%D8%A7%D8%AA-%D8%A7%D9%84%D8%AF%D9%81%D8%A7%D8%B9%D9%8A%D8%A9-%D9%85%D8%B5%D8%B1-%D9%88%D8%A7%D9%84%D8%A5%D9%85%D8%A7%D8%B1%D8%A7%D8%AA-%D8%B9%D9%84%D8%A7%D9%82%D8%AA%D9%87%D9%85%D8%A7-%D8%A7%D8%B3%D8%AA%D8%B1%D8%A7%D8%AA%D9%8A%D8%AC%D9%8A%D8%A9/5560750 \n",
      "\n",
      "https://www.youm7.com/story/2021/12/1/%D9%85%D8%AC%D9%84%D8%B3-%D8%A7%D9%84%D8%A3%D8%B9%D9%85%D8%A7%D9%84-%D8%A7%D9%84%D9%85%D8%B5%D8%B1%D9%89-%D8%A7%D9%84%D8%A5%D8%B3%D8%A8%D8%A7%D9%86%D9%89-%D8%A7%D8%B3%D8%AA%D8%AB%D9%85%D8%A7%D8%B1%D8%A7%D8%AA-%D8%A5%D8%B3%D8%A8%D8%A7%D9%86%D9%8A%D8%A7-%D9%81%D9%89-%D9%85%D8%B5%D8%B1-%D8%AA%D8%AC%D8%A7%D9%88%D8%B2-%D8%A7%D9%84%D9%85%D9%84%D9%8A%D8%A7%D8%B1/5560748 \n",
      "\n",
      "https://www.youm7.com/story/2021/12/1/%D9%88%D8%B2%D9%8A%D8%B1%D8%A9-%D8%A7%D9%84%D8%B5%D9%86%D8%A7%D8%B9%D8%A9-%D8%A7%D9%84%D8%A5%D8%B3%D8%A8%D8%A7%D9%86%D9%8A%D8%A9-%D9%85%D8%B5%D8%B1-%D8%A7%D9%84%D9%85%D8%B3%D8%AA%D9%82%D8%A8%D9%84-%D9%84%D8%A7%D8%B3%D8%AA%D8%AB%D9%85%D8%A7%D8%B1%D8%A7%D8%AA%D9%86%D8%A7-%D8%A8%D8%A3%D9%81%D8%B1%D9%8A%D9%82%D9%8A%D8%A7-%D9%88%D8%B4%D8%B1%D9%8A%D9%83-%D8%A7%D8%B3%D8%AA%D8%B1%D8%A7%D8%AA%D9%8A%D8%AC%D9%89/5560746 \n",
      "\n",
      "https://www.youm7.com/story/2021/12/1/%D8%A7%D8%AC%D8%AA%D9%85%D8%A7%D8%B9-%D8%A8%D9%8A%D9%86-%D8%B1%D8%A6%D9%8A%D8%B3-%D8%A7%D9%84%D9%88%D8%B2%D8%B1%D8%A7%D8%A1-%D9%88%D9%86%D8%B8%D9%8A%D8%B1%D9%87-%D8%A7%D9%84%D8%A3%D8%B3%D8%A8%D8%A7%D9%86%D9%89-%D8%B9%D9%84%D9%89-%D9%87%D8%A7%D9%85%D8%B4-%D9%81%D8%B9%D8%A7%D9%84%D9%8A%D8%A7%D8%AA-%D9%85%D9%86%D8%AA%D8%AF%D9%89/5560740 \n",
      "\n",
      "https://www.youm7.com/story/2021/12/1/%D8%B1%D8%A6%D9%8A%D8%B3-%D8%A7%D9%84%D9%88%D8%B2%D8%B1%D8%A7%D8%A1-%D9%8A%D8%A8%D8%AD%D8%AB-%D9%85%D8%B9-%D8%AC%D9%86%D8%B1%D8%A7%D9%84-%D9%85%D9%88%D8%AA%D9%88%D8%B1%D8%B2-%D9%88-%D9%85%D8%AC%D9%85%D9%88%D8%B9%D8%A9-%D9%85%D9%86%D8%B5%D9%88%D8%B1-%D8%AF%D8%B9%D9%85/5560737 \n",
      "\n",
      "https://www.youm7.com/story/2021/12/1/%D9%85%D8%AC%D9%84%D8%B3-%D8%A5%D8%AF%D8%A7%D8%B1%D8%A9-%D8%B5%D9%86%D8%AF%D9%88%D9%82-%D8%A7%D9%84%D8%AA%D9%86%D9%85%D9%8A%D8%A9-%D8%A7%D9%84%D8%AD%D8%B6%D8%B1%D9%8A%D8%A9-%D9%8A%D8%B9%D9%82%D8%AF-%D8%A7%D8%AC%D8%AA%D9%85%D8%A7%D8%B9%D9%87-%D8%A7%D9%84%D8%A3%D9%88%D9%84-%D8%A8%D8%B9%D8%AF-%D8%AA%D8%B9%D8%AF%D9%8A%D9%84/5560735 \n",
      "\n",
      "https://www.youm7.com/story/2021/12/1/%D8%A7%D9%84%D8%B3%D9%83%D8%A9-%D8%A7%D9%84%D8%AD%D8%AF%D9%8A%D8%AF-%D8%AA%D8%B9%D8%AF%D9%84-%D8%AA%D8%B1%D9%83%D9%8A%D8%A8-%D8%B9%D8%B1%D8%A8%D8%A7%D8%AA-%D8%A8%D9%82%D8%B7%D8%A7%D8%B1%D8%A7%D8%AA-%D8%A8%D8%AD%D8%B1%D9%89-%D8%A8%D8%B9%D8%B1%D8%A8%D8%A7%D8%AA-%D8%B1%D9%88%D8%B3%D9%89-%D9%88%D8%AA%D8%AD%D9%8A%D8%A7/5560724 \n",
      "\n",
      "https://www.youm7.com/story/2021/12/1/%D8%AA%D9%88%D9%82%D9%81-%D8%AD%D8%B1%D9%83%D8%A9-%D8%A7%D9%84%D8%B5%D9%8A%D8%AF-%D9%81%D9%89-%D8%A8%D9%88%D8%BA%D8%A7%D8%B2-%D8%A8%D8%AD%D9%8A%D8%B1%D8%A9-%D8%A7%D9%84%D8%A8%D8%B1%D9%84%D8%B3-%D9%84%D8%B3%D9%88%D8%A1-%D8%A7%D9%84%D8%A3%D8%AD%D9%88%D8%A7%D9%84-%D8%A7%D9%84%D8%AC%D9%88%D9%8A%D8%A9/5560717 \n",
      "\n",
      "https://www.youm7.com/story/2021/12/1/%D8%A7%D9%84%D8%AC%D8%A7%D9%85%D8%B9%D8%A7%D8%AA-%D8%AA%D8%B4%D9%87%D8%AF-%D8%A7%D9%84%D9%8A%D9%88%D9%85-%D8%A7%D9%86%D8%AA%D8%AE%D8%A7%D8%A8%D8%A7%D8%AA-%D8%B1%D8%A4%D8%B3%D8%A7%D8%A1-%D9%88%D9%86%D9%88%D8%A7%D8%A8-%D8%A7%D9%84%D8%A7%D8%AA%D8%AD%D8%A7%D8%AF%D8%A7%D8%AA-%D8%A7%D9%84%D8%B7%D9%84%D8%A7%D8%A8%D9%8A%D8%A9-%D8%A8%D8%A7%D9%84%D9%83%D9%84%D9%8A%D8%A7%D8%AA/5560713 \n",
      "\n",
      "https://www.youm7.com/story/2021/12/1/8-%D8%B5%D9%88%D8%B1-%D8%AA%D9%88%D8%B6%D8%AD-%D8%A7%D9%87%D8%AA%D9%85%D8%A7%D9%85-%D9%85%D8%AD%D8%A7%D9%81%D8%B8%D8%A9-%D8%A3%D8%B3%D9%88%D8%A7%D9%86-%D8%A8%D9%85%D8%AA%D8%B6%D8%B1%D8%B1%D9%89-%D8%A7%D9%84%D8%B3%D9%8A%D9%88%D9%84-%D8%AF%D8%A7%D8%AE%D9%84-%D9%88%D8%AD%D8%AF%D8%A7%D8%AA/5559913 \n",
      "\n",
      "https://www.youm7.com/story/2021/12/1/%D8%B3%D9%81%D9%8A%D8%B1-%D8%B1%D9%88%D9%85%D8%A7%D9%86%D9%8A%D8%A7-%D8%A8%D8%A7%D9%84%D9%82%D8%A7%D9%87%D8%B1%D8%A9-%D9%8A%D8%AB%D9%85%D9%86-%D8%AF%D9%88%D8%B1-%D9%85%D8%B5%D8%B1-%D9%81%D9%89-%D8%A7%D9%84%D8%AD%D9%81%D8%A7%D8%B8-%D8%B9%D9%84%D9%89-%D8%A7%D9%84%D8%A3%D9%85%D9%86/5560700 \n",
      "\n",
      "https://www.youm7.com/story/2021/12/1/%D8%A7%D9%86%D8%AE%D9%81%D8%A7%D8%B6-%D9%81%D9%89-%D8%AF%D8%B1%D8%AC%D8%A7%D8%AA-%D8%A7%D9%84%D8%AD%D8%B1%D8%A7%D8%B1%D8%A9-%D8%A7%D9%84%D9%8A%D9%88%D9%85-%D9%88%D8%A3%D9%85%D8%B7%D8%A7%D8%B1-%D8%A8%D8%A7%D9%84%D8%B3%D9%88%D8%A7%D8%AD%D9%84-%D8%A7%D9%84%D8%B4%D9%85%D8%A7%D9%84%D9%8A%D8%A9-%D9%88%D8%A7%D8%B6%D8%B7%D8%B1%D8%A7%D8%A8-%D8%A8%D8%A7%D9%84%D9%85%D9%84%D8%A7%D8%AD%D8%A9/5559988 \n",
      "\n",
      "https://www.youm7.com/story/2021/12/1/%D9%83%D9%8A%D9%81-%D8%AA%D8%AA%D8%AC%D9%86%D8%A8-%D8%A7%D8%B1%D8%AA%D9%81%D8%A7%D8%B9-%D9%82%D9%8A%D9%85%D8%A9-%D9%81%D8%A7%D8%AA%D9%88%D8%B1%D8%A9-%D8%A7%D9%84%D9%83%D9%87%D8%B1%D8%A8%D8%A7%D8%A1-%D9%81%D9%89-%D8%A7%D9%84%D8%B4%D8%AA%D8%A7%D8%A1-%C3%97-9/5526385 \n",
      "\n",
      "https://www.youm7.com/story/2021/12/1/67-%D9%85%D9%86-%D8%A7%D9%84%D9%82%D8%B1%D8%A7%D8%A1-%D9%8A%D8%B3%D8%AA%D8%A8%D8%B9%D8%AF%D9%88%D9%86-%D9%86%D8%AC%D8%A7%D8%AD-%D8%A7%D9%84%D9%86%D9%82%D8%A7%D8%A8%D8%A7%D8%AA-%D8%A7%D9%84%D9%81%D9%86%D9%8A%D8%A9-%D9%81%D9%89-%D8%A7%D9%84%D8%AA%D8%B5%D8%AF%D9%89-%D9%84%D9%80/5560686 \n",
      "\n",
      "https://www.youm7.com/story/2021/12/1/%D8%A5%D9%8A%D8%AF%D9%8A%D9%83%D8%B3-2021-%D8%A7%D9%86%D8%B7%D9%84%D8%A7%D9%82-%D8%A7%D9%84%D9%85%D8%B9%D8%B1%D8%B6-%D8%A7%D9%84%D8%AF%D9%88%D9%84%D9%89-%D9%84%D9%84%D8%B5%D9%86%D8%A7%D8%B9%D8%A7%D8%AA-%D8%A7%D9%84%D8%AF%D9%81%D8%A7%D8%B9%D9%8A%D8%A9-%D9%88%D8%A7%D9%84%D8%B9%D8%B3%D9%83%D8%B1%D9%8A%D8%A9/5560684 \n",
      "\n",
      "https://www.youm7.com/story/2021/12/1/%D8%A7%D9%84%D9%8A%D9%88%D9%85-%D8%A7%D9%84%D8%B3%D8%A7%D8%A8%D8%B9-%D8%AA%D8%B7%D9%84%D9%82-%D9%85%D9%88%D9%82%D8%B9-%D8%A8%D8%B1%D9%84%D9%85%D8%A7%D9%86%D9%89-%D8%A3%D9%83%D8%A8%D8%B1-%D8%A8%D9%88%D8%A7%D8%A8%D8%A9-%D8%B3%D9%8A%D8%A7%D8%B3%D9%8A%D8%A9-%D9%85%D8%AA%D8%AE%D8%B5%D8%B5%D8%A9-%D9%81%D9%89/5560683 \n",
      "\n",
      "https://www.youm7.com/story/2021/12/1/%D9%82%D8%A7%D8%A6%D9%85%D8%A9-%D8%A7%D9%84%D9%82%D8%B7%D8%A7%D8%B1%D8%A7%D8%AA-%D8%A7%D9%84%D9%85%D9%83%D9%8A%D9%81%D8%A9-%D8%A8%D8%AE%D8%B7%D9%88%D8%B7-%D8%A7%D9%84%D9%88%D8%AC%D9%87%D9%8A%D9%86-%D8%A7%D9%84%D8%A8%D8%AD%D8%B1%D9%89-%D9%88%D8%A7%D9%84%D9%82%D8%A8%D9%84%D9%89-%D9%88%D9%85%D9%88%D8%A7%D8%B9%D9%8A%D8%AF-%D9%82%D9%8A%D8%A7%D9%85%D9%87%D8%A7/5560059 \n",
      "\n",
      "https://www.youm7.com/story/2021/12/1/%D9%85%D9%84%D9%8A%D8%A7%D8%B1-%D9%88438-%D9%85%D9%84%D9%8A%D9%88%D9%86-%D8%AC%D9%86%D9%8A%D9%87-%D8%AA%D9%83%D9%84%D9%81%D8%A9-%D9%85%D8%B4%D8%B1%D9%88%D8%B9%D8%A7%D8%AA-%D8%A7%D9%84%D8%B5%D8%AD%D8%A9-%D9%88%D9%85%D9%8A%D8%A7%D9%87-%D8%A7%D9%84%D8%B4%D8%B1%D8%A8-%D9%88%D8%A7%D9%84%D8%B5%D8%B1%D9%81/5559940 \n",
      "\n",
      "https://www.youm7.com/story/2021/12/1/%D8%A7%D8%AD%D8%B0%D8%B1-%D8%A7%D9%84%D8%AD%D8%A8%D8%B3-%D8%B3%D9%86%D8%A9-%D9%88%D8%A7%D9%84%D8%BA%D8%B1%D8%A7%D9%85%D8%A9-%D8%AA%D8%B5%D9%84-%D9%84%D9%8020-%D8%A3%D9%84%D9%81-%D8%AC%D9%86%D9%8A%D9%87-%D8%B9%D9%82%D9%88%D8%A8%D8%A9-%D8%A7%D9%84%D8%BA%D8%B4/5559713 \n",
      "\n",
      "https://www.youm7.com/story/2021/12/1/%D8%A7%D9%84%D8%B5%D8%AD%D8%A9-%D8%AA%D9%82%D8%AF%D9%8A%D9%85-%D8%AE%D8%AF%D9%85%D8%A7%D8%AA-%D8%AA%D9%86%D8%B8%D9%8A%D9%85-%D8%A7%D9%84%D8%A3%D8%B3%D8%B1%D8%A9-%D8%A8%D8%B9%D8%AF-%D8%A7%D9%84%D9%88%D9%84%D8%A7%D8%AF%D8%A9-%D8%A8%D9%80197-%D9%85%D8%B3%D8%AA%D8%B4%D9%81%D9%89-%D9%84%D9%84%D8%AA%D8%A3%D9%85%D9%8A%D9%86/5560119 \n",
      "\n",
      "https://www.youm7.com/story/2021/12/1/%D8%A7%D9%84%D9%85%D8%B1%D9%88%D8%B1-%D8%BA%D8%B1%D9%81-%D9%85%D8%AA%D8%A7%D8%A8%D8%B9%D8%A9-%D8%A8%D8%B5%D9%81%D8%A9-%D8%AF%D9%88%D8%B1%D9%8A%D8%A9-%D9%84%D9%84%D8%B7%D8%B1%D9%82-%D8%AA%D8%AD%D8%B3%D8%A8%D8%A7-%D9%84%D8%B8%D9%87%D9%88%D8%B1-%D8%A7%D9%84%D8%B4%D8%A8%D9%88%D8%B1%D8%A9-%D8%A8%D8%A7%D9%84%D9%85%D8%AD%D8%A7%D9%88%D8%B1/5559576 \n",
      "\n"
     ]
    },
    {
     "name": "stderr",
     "output_type": "stream",
     "text": [
      "c:\\Users\\MedOo\\project\\lib\\site-packages\\ipykernel_launcher.py:18: DeprecationWarning: find_element_by_* commands are deprecated. Please use find_element() instead\n",
      "c:\\Users\\MedOo\\project\\lib\\site-packages\\ipykernel_launcher.py:19: DeprecationWarning: find_element_by_* commands are deprecated. Please use find_element() instead\n",
      "c:\\Users\\MedOo\\project\\lib\\site-packages\\ipykernel_launcher.py:20: DeprecationWarning: find_element_by_* commands are deprecated. Please use find_element() instead\n"
     ]
    }
   ],
   "source": [
    "title = []\n",
    "date = []\n",
    "topic = []\n",
    "test = driver.find_elements_by_css_selector(\"div[class='col-xs-12 bigOneSec']\")\n",
    "\n",
    "#geting links in array\n",
    "links_1 = []\n",
    "for i in test:\n",
    "    links = i.find_element_by_css_selector(\"a\").get_attribute('href')\n",
    "    links_1.append(links)\n",
    "    print(links,'\\n')\n",
    "\n",
    "#opening each link in the array  \n",
    "for i in links_1:\n",
    "\n",
    "    driver.get(i)\n",
    "    \n",
    "    title.append(driver.find_element_by_css_selector('div[class=\"articleHeader\"] > h1').text)\n",
    "    date.append(driver.find_element_by_css_selector('span[class=\"newsStoryDate\"]').text)\n",
    "    topic.append(driver.find_element_by_css_selector('div[id=\"articleBody\"]').text)\n",
    "#     print(title[i],'\\n')\n",
    "#     print(date[i],'\\n')\n",
    "#     print(topic[i],'\\n')\n",
    "#     print(\"....................................................................\")\n",
    "    \n"
   ]
  },
  {
   "cell_type": "code",
   "execution_count": 12,
   "id": "f0366590",
   "metadata": {},
   "outputs": [],
   "source": [
    "doc_ = {'date':date,\n",
    "       'Subject':title,\n",
    "       'Content':topic}\n",
    "# df = pd.DataFrame(date,title,topic,columns=['date','title','topic'])\n",
    "df = pd.DataFrame(doc_)"
   ]
  },
  {
   "cell_type": "code",
   "execution_count": 13,
   "id": "398d124f",
   "metadata": {},
   "outputs": [
    {
     "data": {
      "text/html": [
       "<div>\n",
       "<style scoped>\n",
       "    .dataframe tbody tr th:only-of-type {\n",
       "        vertical-align: middle;\n",
       "    }\n",
       "\n",
       "    .dataframe tbody tr th {\n",
       "        vertical-align: top;\n",
       "    }\n",
       "\n",
       "    .dataframe thead th {\n",
       "        text-align: right;\n",
       "    }\n",
       "</style>\n",
       "<table border=\"1\" class=\"dataframe\">\n",
       "  <thead>\n",
       "    <tr style=\"text-align: right;\">\n",
       "      <th></th>\n",
       "      <th>date</th>\n",
       "      <th>Subject</th>\n",
       "      <th>Content</th>\n",
       "    </tr>\n",
       "  </thead>\n",
       "  <tbody>\n",
       "    <tr>\n",
       "      <th>0</th>\n",
       "      <td>الأربعاء، 01 ديسمبر 2021 11:12 ص</td>\n",
       "      <td>وزير الإنتاج الحربى يشهد توقيع مذكرة تفاهم مع ...</td>\n",
       "      <td>شهد المهندس محمد أحمد مرسي وزير الدولة للإنتاج...</td>\n",
       "    </tr>\n",
       "    <tr>\n",
       "      <th>1</th>\n",
       "      <td>الأربعاء، 01 ديسمبر 2021 11:00 ص</td>\n",
       "      <td>الرئيس السيسى يستقبل اليوم رئيس حكومة مملكة إس...</td>\n",
       "      <td>يستقبل الرئيس عبد الفتاح السيسي صباح اليوم، ال...</td>\n",
       "    </tr>\n",
       "    <tr>\n",
       "      <th>2</th>\n",
       "      <td>الأربعاء، 01 ديسمبر 2021 10:51 ص</td>\n",
       "      <td>الأقرب خلال الـ10 سنوات المقبلة.. كويكب صغير ي...</td>\n",
       "      <td>يرصد اليوم الأربعاء 1 ديسمبر 2021 عبور كويكب ص...</td>\n",
       "    </tr>\n",
       "    <tr>\n",
       "      <th>3</th>\n",
       "      <td>الأربعاء، 01 ديسمبر 2021 10:50 ص</td>\n",
       "      <td>الداخلية تشارك فى حملة الـ16 يوما لمناهضة العن...</td>\n",
       "      <td>حرصت وزارة الداخلية - متمثلة فى قطاع (حقوق الإ...</td>\n",
       "    </tr>\n",
       "    <tr>\n",
       "      <th>4</th>\n",
       "      <td>الأربعاء، 01 ديسمبر 2021 10:45 ص</td>\n",
       "      <td>شاهد الحالة المرورية أعلى محور 26 يوليو.. فيديو</td>\n",
       "      <td>قدم \"اليوم السابع\" بثا مباشرا رصد خلاله الحالة...</td>\n",
       "    </tr>\n",
       "  </tbody>\n",
       "</table>\n",
       "</div>"
      ],
      "text/plain": [
       "                               date  \\\n",
       "0  الأربعاء، 01 ديسمبر 2021 11:12 ص   \n",
       "1  الأربعاء، 01 ديسمبر 2021 11:00 ص   \n",
       "2  الأربعاء، 01 ديسمبر 2021 10:51 ص   \n",
       "3  الأربعاء، 01 ديسمبر 2021 10:50 ص   \n",
       "4  الأربعاء، 01 ديسمبر 2021 10:45 ص   \n",
       "\n",
       "                                             Subject  \\\n",
       "0  وزير الإنتاج الحربى يشهد توقيع مذكرة تفاهم مع ...   \n",
       "1  الرئيس السيسى يستقبل اليوم رئيس حكومة مملكة إس...   \n",
       "2  الأقرب خلال الـ10 سنوات المقبلة.. كويكب صغير ي...   \n",
       "3  الداخلية تشارك فى حملة الـ16 يوما لمناهضة العن...   \n",
       "4    شاهد الحالة المرورية أعلى محور 26 يوليو.. فيديو   \n",
       "\n",
       "                                             Content  \n",
       "0  شهد المهندس محمد أحمد مرسي وزير الدولة للإنتاج...  \n",
       "1  يستقبل الرئيس عبد الفتاح السيسي صباح اليوم، ال...  \n",
       "2  يرصد اليوم الأربعاء 1 ديسمبر 2021 عبور كويكب ص...  \n",
       "3  حرصت وزارة الداخلية - متمثلة فى قطاع (حقوق الإ...  \n",
       "4  قدم \"اليوم السابع\" بثا مباشرا رصد خلاله الحالة...  "
      ]
     },
     "execution_count": 13,
     "metadata": {},
     "output_type": "execute_result"
    }
   ],
   "source": [
    "df.head()"
   ]
  },
  {
   "cell_type": "code",
   "execution_count": 100,
   "id": "353d9b43",
   "metadata": {},
   "outputs": [],
   "source": [
    "df.to_csv('scraped_news')"
   ]
  },
  {
   "cell_type": "code",
   "execution_count": null,
   "id": "bdd02b08",
   "metadata": {},
   "outputs": [],
   "source": []
  }
 ],
 "metadata": {
  "kernelspec": {
   "display_name": "Python 3",
   "language": "python",
   "name": "python3"
  },
  "language_info": {
   "codemirror_mode": {
    "name": "ipython",
    "version": 3
   },
   "file_extension": ".py",
   "mimetype": "text/x-python",
   "name": "python",
   "nbconvert_exporter": "python",
   "pygments_lexer": "ipython3",
   "version": "3.7.0"
  }
 },
 "nbformat": 4,
 "nbformat_minor": 5
}
